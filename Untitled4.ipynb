{
  "nbformat": 4,
  "nbformat_minor": 0,
  "metadata": {
    "colab": {
      "provenance": []
    },
    "kernelspec": {
      "name": "python3",
      "display_name": "Python 3"
    },
    "language_info": {
      "name": "python"
    }
  },
  "cells": [
    {
      "cell_type": "code",
      "execution_count": 1,
      "metadata": {
        "id": "2WdZp8fy0geM",
        "outputId": "3a425d78-f295-4479-b322-590fac06296e",
        "colab": {
          "base_uri": "https://localhost:8080/"
        }
      },
      "outputs": [
        {
          "output_type": "stream",
          "name": "stdout",
          "text": [
            "Predicted Salary: 63899.5877390541\n"
          ]
        },
        {
          "output_type": "stream",
          "name": "stderr",
          "text": [
            "/usr/local/lib/python3.11/dist-packages/sklearn/utils/validation.py:2739: UserWarning: X does not have valid feature names, but LinearRegression was fitted with feature names\n",
            "  warnings.warn(\n"
          ]
        }
      ],
      "source": [
        "import pandas as pd\n",
        "from sklearn.linear_model import LinearRegression\n",
        "import pickle\n",
        "\n",
        "data = {\n",
        "    'experience': ['one', 'three', 'five', 'two', 'seven', 'zero', 'ten'],\n",
        "    'test_score(out of 10)': [8, 6, 7, 9, 8, 6, 10],\n",
        "    'interview_score(out of 10)': [9, 7, 8, 6, 7, 9, 10],\n",
        "    'salary': [50000, 60000, 70000, 65000, 80000, 40000, 100000]\n",
        "}\n",
        "df = pd.DataFrame(data)\n",
        "df.to_csv('hiring.csv', index=False)\n",
        "\n",
        "df = pd.read_csv('hiring.csv')\n",
        "\n",
        "df['experience'] = df['experience'].fillna('zero')\n",
        "df['test_score(out of 10)'] = df['test_score(out of 10)'].fillna(df['test_score(out of 10)'].mean())\n",
        "\n",
        "def convert_to_int(word):\n",
        "    word_dict = {\n",
        "        'zero': 0, 'one': 1, 'two': 2, 'three': 3, 'four': 4,\n",
        "        'five': 5, 'six': 6, 'seven': 7, 'eight': 8, 'nine': 9, 'ten': 10\n",
        "    }\n",
        "    return word_dict.get(word, 0)\n",
        "\n",
        "df['experience'] = df['experience'].apply(convert_to_int)\n",
        "\n",
        "X = df.iloc[:, :3]\n",
        "y = df.iloc[:, -1]\n",
        "\n",
        "model = LinearRegression()\n",
        "model.fit(X, y)\n",
        "\n",
        "predicted_salary = model.predict([[2, 9, 6]])\n",
        "print(\"Predicted Salary:\", predicted_salary[0])\n",
        "\n",
        "with open('model.pkl', 'wb') as file:\n",
        "    pickle.dump(model, file)\n"
      ]
    }
  ]
}